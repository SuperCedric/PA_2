{
 "cells": [
  {
   "cell_type": "markdown",
   "id": "de5405d8-cdeb-4843-8b35-a4f85d7910ce",
   "metadata": {},
   "source": [
    "# NORMALIZATION PROBLEM"
   ]
  },
  {
   "cell_type": "code",
   "execution_count": 34,
   "id": "29bcc98f-83bd-43c0-a431-160ced148e8e",
   "metadata": {},
   "outputs": [],
   "source": [
    "import numpy as np\n",
    "\n",
    "X = np.random.rand(5,5)\n",
    "mean = X.mean(axis=0)\n",
    "sd = X.std(axis=0)\n",
    "X_Normalized =  (X - mean) / (sd)\n",
    "X_Normalized\n",
    "np.save(\"X_Normalized_npy\", X_Normalized)"
   ]
  },
  {
   "cell_type": "markdown",
   "id": "721b90fb-097b-4469-989a-4946709f443e",
   "metadata": {},
   "source": [
    "# DIVISIBLE BY 3 PROBLEM"
   ]
  },
  {
   "cell_type": "code",
   "execution_count": 55,
   "id": "f7e87fe9-53d1-4f3e-94e7-9493802f3498",
   "metadata": {},
   "outputs": [],
   "source": [
    "import numpy as np\n",
    "A = np.arange(1,101).reshape(10,10) ** 2\n",
    "div = A[A % 3 == 0].reshape(3,11)\n",
    "np.save(\"div_by_3.npy\", div)\n"
   ]
  },
  {
   "cell_type": "code",
   "execution_count": null,
   "id": "e59b140f-2d72-4277-991e-6ac357e5b9dc",
   "metadata": {},
   "outputs": [],
   "source": []
  }
 ],
 "metadata": {
  "kernelspec": {
   "display_name": "Python 3 (ipykernel)",
   "language": "python",
   "name": "python3"
  },
  "language_info": {
   "codemirror_mode": {
    "name": "ipython",
    "version": 3
   },
   "file_extension": ".py",
   "mimetype": "text/x-python",
   "name": "python",
   "nbconvert_exporter": "python",
   "pygments_lexer": "ipython3",
   "version": "3.12.4"
  }
 },
 "nbformat": 4,
 "nbformat_minor": 5
}
