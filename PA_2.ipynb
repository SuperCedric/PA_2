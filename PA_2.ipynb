{
 "cells": [
  {
   "cell_type": "markdown",
   "id": "de5405d8-cdeb-4843-8b35-a4f85d7910ce",
   "metadata": {},
   "source": [
    "# PROGRAMMING ASSIGNMENT 2"
   ]
  },
  {
   "cell_type": "markdown",
   "id": "0d7859f4-7675-4af1-ada0-e7c82b01085e",
   "metadata": {},
   "source": [
    "# NORMALIZATION PROBLEM"
   ]
  },
  {
   "cell_type": "code",
   "execution_count": 8,
   "id": "29bcc98f-83bd-43c0-a431-160ced148e8e",
   "metadata": {},
   "outputs": [
    {
     "data": {
      "text/plain": [
       "array([[-1.01362098, -1.21796476, -1.62957135, -0.78390358, -0.46249044],\n",
       "       [ 1.10331136, -0.15646479,  0.99078209,  0.13307496,  1.69437109],\n",
       "       [ 0.19061286,  0.42330427,  0.87347843, -1.41284488, -1.26903546],\n",
       "       [-1.29766152, -0.72038353,  0.41760588,  0.68378398, -0.37133794],\n",
       "       [ 1.01735828,  1.67150881, -0.65229505,  1.37988951,  0.40849275]])"
      ]
     },
     "execution_count": 8,
     "metadata": {},
     "output_type": "execute_result"
    }
   ],
   "source": [
    "#import the numpy library to use its functions\n",
    "import numpy as np\n",
    "\n",
    "#assign a random float between 1 and 0 in a 5x5 array\n",
    "X = np.random.rand(5,5)\n",
    "#find the mean\n",
    "mean = X.mean(axis=0)\n",
    "#find the standard deviation\n",
    "sd = X.std(axis=0)\n",
    "#normalize the array using the given formula\n",
    "X_Normalized =  ((X - mean) / (sd))\n",
    "#save the array in the properly named file\n",
    "np.save(\"X_Normalized_npy\", X_Normalized)\n",
    "#Print the normalized array to check for errors\n",
    "X_Normalized"
   ]
  },
  {
   "cell_type": "markdown",
   "id": "721b90fb-097b-4469-989a-4946709f443e",
   "metadata": {},
   "source": [
    "# DIVISIBLE BY 3 PROBLEM"
   ]
  },
  {
   "cell_type": "code",
   "execution_count": 10,
   "id": "f7e87fe9-53d1-4f3e-94e7-9493802f3498",
   "metadata": {},
   "outputs": [],
   "source": [
    "#import the NumPy library to use its functions\n",
    "import numpy as np\n",
    "#assign the squared numbers into a 10x10 array\n",
    "A = np.arange(1,101).reshape(10,10) ** 2\n",
    "#find the numbers that are divisible by 3 element-wise and assign it to a variable\n",
    "div = A[A % 3 == 0].reshape(3,11)\n",
    "#save the divisible by 3 array into the properly named file\n",
    "np.save(\"div_by_3.npy\", div)\n"
   ]
  },
  {
   "cell_type": "code",
   "execution_count": null,
   "id": "e59b140f-2d72-4277-991e-6ac357e5b9dc",
   "metadata": {},
   "outputs": [],
   "source": []
  }
 ],
 "metadata": {
  "kernelspec": {
   "display_name": "Python 3 (ipykernel)",
   "language": "python",
   "name": "python3"
  },
  "language_info": {
   "codemirror_mode": {
    "name": "ipython",
    "version": 3
   },
   "file_extension": ".py",
   "mimetype": "text/x-python",
   "name": "python",
   "nbconvert_exporter": "python",
   "pygments_lexer": "ipython3",
   "version": "3.12.4"
  }
 },
 "nbformat": 4,
 "nbformat_minor": 5
}
