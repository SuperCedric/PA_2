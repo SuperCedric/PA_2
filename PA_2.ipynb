{
 "cells": [
  {
   "cell_type": "markdown",
   "id": "de5405d8-cdeb-4843-8b35-a4f85d7910ce",
   "metadata": {},
   "source": [
    "# PROGRAMMING ASSIGNMENT 2"
   ]
  },
  {
   "cell_type": "markdown",
   "id": "0d7859f4-7675-4af1-ada0-e7c82b01085e",
   "metadata": {},
   "source": [
    "# NORMALIZATION PROBLEM"
   ]
  },
  {
   "cell_type": "code",
   "execution_count": 9,
   "id": "29bcc98f-83bd-43c0-a431-160ced148e8e",
   "metadata": {},
   "outputs": [
    {
     "data": {
      "text/plain": [
       "array([[ 1.37056571,  0.92442838,  1.04155734, -0.90441686,  0.72807555],\n",
       "       [ 0.69595613, -0.42394752, -0.35225163, -0.67510097,  0.4520398 ],\n",
       "       [-1.17290787, -1.10154428, -1.04611764, -0.84101816,  1.1971176 ],\n",
       "       [-1.10339242, -0.83341324, -0.96899493,  0.99877331, -1.13006215],\n",
       "       [ 0.20977845,  1.43447665,  1.32580686,  1.42176269, -1.2471708 ]])"
      ]
     },
     "execution_count": 9,
     "metadata": {},
     "output_type": "execute_result"
    }
   ],
   "source": [
    "#import the numpy library to use its functions\n",
    "import numpy as np\n",
    "\n",
    "#assign a random float between 1 and 0 in a 5x5 array\n",
    "X = np.random.rand(5,5)\n",
    "#find the mean\n",
    "mean = X.mean(axis=0)\n",
    "#find the standard deviation\n",
    "sd = X.std(axis=0)\n",
    "#normalize the array using the given formula\n",
    "X_Normalized =  ((X - mean) / (sd))\n",
    "#save the array in the properly named file\n",
    "np.save(\"X_Normalized.npy\", X_Normalized)\n",
    "#Print the normalized array to check for errors\n",
    "X_Normalized"
   ]
  },
  {
   "cell_type": "markdown",
   "id": "721b90fb-097b-4469-989a-4946709f443e",
   "metadata": {},
   "source": [
    "# DIVISIBLE BY 3 PROBLEM"
   ]
  },
  {
   "cell_type": "code",
   "execution_count": 3,
   "id": "f7e87fe9-53d1-4f3e-94e7-9493802f3498",
   "metadata": {},
   "outputs": [
    {
     "name": "stdout",
     "output_type": "stream",
     "text": [
      "The 10x10 array is given as: \n",
      " [[    1     4     9    16    25    36    49    64    81   100]\n",
      " [  121   144   169   196   225   256   289   324   361   400]\n",
      " [  441   484   529   576   625   676   729   784   841   900]\n",
      " [  961  1024  1089  1156  1225  1296  1369  1444  1521  1600]\n",
      " [ 1681  1764  1849  1936  2025  2116  2209  2304  2401  2500]\n",
      " [ 2601  2704  2809  2916  3025  3136  3249  3364  3481  3600]\n",
      " [ 3721  3844  3969  4096  4225  4356  4489  4624  4761  4900]\n",
      " [ 5041  5184  5329  5476  5625  5776  5929  6084  6241  6400]\n",
      " [ 6561  6724  6889  7056  7225  7396  7569  7744  7921  8100]\n",
      " [ 8281  8464  8649  8836  9025  9216  9409  9604  9801 10000]]\n",
      "The elements divisible by 3 are: \n",
      " [[   9   36   81  144  225  324  441  576  729  900 1089]\n",
      " [1296 1521 1764 2025 2304 2601 2916 3249 3600 3969 4356]\n",
      " [4761 5184 5625 6084 6561 7056 7569 8100 8649 9216 9801]]\n"
     ]
    }
   ],
   "source": [
    "#import the NumPy library to use its functions\n",
    "import numpy as np\n",
    "#assign the squared numbers into a 10x10 array\n",
    "A = np.arange(1,101).reshape(10,10) ** 2\n",
    "#find the numbers that are divisible by 3 element-wise and assign it to a variable\n",
    "div = A[A % 3 == 0].reshape(3,11)\n",
    "#Print the two arrays so we can check for any logic errors\n",
    "print(\"The 10x10 array is given as: \\n\", A)\n",
    "print(\"The elements divisible by 3 are: \\n\", div)\n",
    "#save the divisible by 3 array into the properly named file\n",
    "np.save(\"div_by_3.npy\", div)"
   ]
  },
  {
   "cell_type": "code",
   "execution_count": null,
   "id": "e59b140f-2d72-4277-991e-6ac357e5b9dc",
   "metadata": {},
   "outputs": [],
   "source": []
  }
 ],
 "metadata": {
  "kernelspec": {
   "display_name": "Python 3 (ipykernel)",
   "language": "python",
   "name": "python3"
  },
  "language_info": {
   "codemirror_mode": {
    "name": "ipython",
    "version": 3
   },
   "file_extension": ".py",
   "mimetype": "text/x-python",
   "name": "python",
   "nbconvert_exporter": "python",
   "pygments_lexer": "ipython3",
   "version": "3.12.4"
  }
 },
 "nbformat": 4,
 "nbformat_minor": 5
}
